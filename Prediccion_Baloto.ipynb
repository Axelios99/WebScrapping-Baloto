{
 "cells": [
  {
   "cell_type": "code",
   "execution_count": null,
   "id": "ca8d7108-97a4-44d2-8bd0-d5942f25f1a7",
   "metadata": {},
   "outputs": [],
   "source": [
    "#Libraries\n",
    "import requests\n",
    "from bs4 import BeautifulSoup\n",
    "import datetime"
   ]
  },
  {
   "cell_type": "code",
   "execution_count": 3,
   "id": "7d98c75e",
   "metadata": {
    "scrolled": true
   },
   "outputs": [],
   "source": [
    "#Extract balls\n",
    "balls = []\n",
    "superBalls =[]\n",
    "counterBalls = 0\n",
    "\n",
    "\n",
    "#Current year\n",
    "currentDateTime = datetime.datetime.now()\n",
    "date = currentDateTime.date()\n",
    "currentYear = date.strftime(\"%Y\")\n",
    "\n",
    "#Create URL\n",
    "for year in range (2017, (int(currentYear) + 1)):\n",
    "    url = 'https://www.loterias.com/baloto/resultados/' + str(year)\n",
    "    response = requests.get(url)\n",
    "    soup = BeautifulSoup(response.content, 'html.parser')\n",
    "    \n",
    "\n",
    "    #If response is 200 (ok)\n",
    "    if(response.status_code == 200):\n",
    "        if(year != 2017):\n",
    "            for ball in soup.find_all(class_='ball'):\n",
    "                counterBalls = counterBalls+1\n",
    "\n",
    "                #If the counter ball is six is a suṕerball\n",
    "                if(counterBalls == 6):\n",
    "                    superBalls.append(int(ball.text.strip()))\n",
    "                    counterBalls = 0\n",
    "                else:\n",
    "                    balls.append(int(ball.text.strip()))\n",
    "        else:\n",
    "            #If year is 2017 we need count 216 balls because in that year the draw changed\n",
    "            counterBallsYear2017 = 0\n",
    "            \n",
    "            for ball in soup.find_all(class_='ball'):\n",
    "                \n",
    "                counterBallsYear2017 = counterBallsYear2017+1\n",
    "                \n",
    "                counterBalls = counterBalls+1\n",
    "\n",
    "                #If the counter ball is six is a suṕerball\n",
    "                if(counterBalls == 6):\n",
    "                    superBalls.append(int(ball.text.strip()))\n",
    "                    counterBalls = 0\n",
    "                else:\n",
    "                    balls.append(int(ball.text.strip()))\n",
    "                    \n",
    "                #If counterBallsYear2017 is 216(until the last \"revancha\")break the cicle\n",
    "                if(counterBallsYear2017 == 216):\n",
    "                    break;"
   ]
  },
  {
   "cell_type": "code",
   "execution_count": 4,
   "id": "568f7aec",
   "metadata": {},
   "outputs": [
    {
     "name": "stdout",
     "output_type": "stream",
     "text": [
      "Top_Five:\n",
      "Ball number: 8\n",
      "Ball number: 22\n",
      "Ball number: 5\n",
      "Ball number: 40\n",
      "Ball number: 1\n",
      "Super Ball: 13\n"
     ]
    }
   ],
   "source": [
    "#Algorithm with counter\n",
    "\n",
    "from collections import Counter\n",
    "\n",
    "#-------------------------Counter for balls------------------------------\n",
    "\n",
    "# Get count of frecuency of numbers\n",
    "freq_count = Counter(balls)\n",
    "\n",
    "# top_five of baloto\n",
    "top_five = freq_count.most_common(5)\n",
    "\n",
    "# Imprimir los 5 números más probables\n",
    "print(\"Top_Five:\")\n",
    "for num, freq in top_five:\n",
    "    print(\"Ball number: \" + str(num))\n",
    "    \n",
    "#---------------------------------SUPER BALL--------------------\n",
    "\n",
    "# Get count of frecuency of numbers\n",
    "freq_count = Counter(superBalls)\n",
    "\n",
    "# top_five of superball\n",
    "number = freq_count.most_common(1)\n",
    "\n",
    "#Print the superball\n",
    "for num, freq in number:\n",
    "    print(\"Super Ball: \" + str(num))"
   ]
  }
 ],
 "metadata": {
  "kernelspec": {
   "display_name": "Python 3 (ipykernel)",
   "language": "python",
   "name": "python3"
  },
  "language_info": {
   "codemirror_mode": {
    "name": "ipython",
    "version": 3
   },
   "file_extension": ".py",
   "mimetype": "text/x-python",
   "name": "python",
   "nbconvert_exporter": "python",
   "pygments_lexer": "ipython3",
   "version": "3.11.5"
  }
 },
 "nbformat": 4,
 "nbformat_minor": 5
}
